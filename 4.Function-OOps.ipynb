{
 "cells": [
  {
   "cell_type": "markdown",
   "metadata": {},
   "source": [
    "#Syntax\n",
    "def functionname():\n",
    "    return function"
   ]
  },
  {
   "cell_type": "code",
   "execution_count": 3,
   "metadata": {},
   "outputs": [],
   "source": [
    "def addition(a,b):\n",
    "    add=a+b\n",
    "    return add"
   ]
  },
  {
   "cell_type": "code",
   "execution_count": 11,
   "metadata": {},
   "outputs": [
    {
     "name": "stdout",
     "output_type": "stream",
     "text": [
      "Enter the age:60\n"
     ]
    }
   ],
   "source": [
    "age=int(input(\"Enter the age:\"))\n",
    "def Agecategory():\n",
    "    if(age<18):\n",
    "        print(\"CHILDREN\")\n",
    "        Cate=\"CHILDREN\"\n",
    "    elif(age<36):\n",
    "        print(\"ADULT\")\n",
    "        Cate=\"ADULT\"\n",
    "    elif(age<59):\n",
    "        print(\"CITIZEN\")\n",
    "        Cate=\"CITIZEN\"\n",
    "    else:\n",
    "        print(\"SENIOR CITIZEN\")\n",
    "        Cate=\"SENIOR CITIZEN\"\n",
    "    return Cate    \n",
    "     "
   ]
  },
  {
   "cell_type": "code",
   "execution_count": 12,
   "metadata": {},
   "outputs": [
    {
     "name": "stdout",
     "output_type": "stream",
     "text": [
      "SENIOR CITIZEN\n"
     ]
    }
   ],
   "source": [
    "Cate=Agecategory()"
   ]
  },
  {
   "cell_type": "code",
   "execution_count": 13,
   "metadata": {},
   "outputs": [
    {
     "name": "stdout",
     "output_type": "stream",
     "text": [
      "Enter the num:7\n",
      "Odd\n"
     ]
    }
   ],
   "source": [
    "num=int(input(\"Enter the num:\"))\n",
    "def Oddeven():\n",
    "    if(num%2==1):\n",
    "        print(\"Odd\")\n",
    "        result=\"Odd\"\n",
    "    else:\n",
    "        print(\"Even\")\n",
    "        result=\"Even\"\n",
    "    return result\n",
    "result=Oddeven()"
   ]
  },
  {
   "cell_type": "code",
   "execution_count": 15,
   "metadata": {},
   "outputs": [
    {
     "name": "stdout",
     "output_type": "stream",
     "text": [
      "The given value is Odd\n"
     ]
    }
   ],
   "source": [
    "if(result==\"Odd\"):\n",
    "    print(\"The given value is Odd\")\n",
    "else:\n",
    "    print(\"The given value is Even\")"
   ]
  },
  {
   "cell_type": "code",
   "execution_count": 20,
   "metadata": {},
   "outputs": [],
   "source": [
    "def addition(num1,num2):\n",
    "    add=num1+num2\n",
    "    return add\n"
   ]
  },
  {
   "cell_type": "code",
   "execution_count": 17,
   "metadata": {},
   "outputs": [
    {
     "data": {
      "text/plain": [
       "50"
      ]
     },
     "execution_count": 17,
     "metadata": {},
     "output_type": "execute_result"
    }
   ],
   "source": [
    "addition(20,30)"
   ]
  },
  {
   "cell_type": "code",
   "execution_count": null,
   "metadata": {},
   "outputs": [],
   "source": []
  }
 ],
 "metadata": {
  "kernelspec": {
   "display_name": "Python 3",
   "language": "python",
   "name": "python3"
  },
  "language_info": {
   "codemirror_mode": {
    "name": "ipython",
    "version": 3
   },
   "file_extension": ".py",
   "mimetype": "text/x-python",
   "name": "python",
   "nbconvert_exporter": "python",
   "pygments_lexer": "ipython3",
   "version": "3.7.4"
  }
 },
 "nbformat": 4,
 "nbformat_minor": 2
}
